{
 "cells": [
  {
   "cell_type": "markdown",
   "id": "036546bf-1925-4fc0-985f-75fe85ec4e19",
   "metadata": {},
   "source": [
    "# Seattle Weather Exploration and Analysis"
   ]
  },
  {
   "cell_type": "markdown",
   "id": "35faa151-df44-49e7-9437-2b7ea2d321a9",
   "metadata": {},
   "source": [
    "We moved from Mississippi to Seattle in January 2023, covering a vast distance across the country. Since these cities are quite far apart and situated in different regions of the country, we anticipate a notable contrast in the weather. To grasp this transition more deeply, leveraging my skills as a Data Analyst, I'm creating a Jupyter notebook to explore and analyze Seattle's historical weather data. My objective is to gain a thorough understanding of Seattle's weather patterns throughout the year."
   ]
  },
  {
   "cell_type": "markdown",
   "id": "4a06f8b8-cc93-4f56-98f2-528b3e8a3825",
   "metadata": {},
   "source": [
    "## 1. Set up enviroment"
   ]
  },
  {
   "cell_type": "code",
   "execution_count": 1,
   "id": "89390905-5d13-45d3-a560-38d7d1d21c94",
   "metadata": {},
   "outputs": [],
   "source": [
    "import pandas as pd\n",
    "import numpy as np\n",
    "import matplotlib.pyplot as plt\n",
    "import seaborn as sns\n",
    "import calendar "
   ]
  },
  {
   "cell_type": "markdown",
   "id": "943fa063-c0ae-4c04-a529-10ec9482d24b",
   "metadata": {
    "tags": []
   },
   "source": [
    "## 2. Get the data"
   ]
  },
  {
   "cell_type": "markdown",
   "id": "93da4263-4c63-45d2-ad14-a86d9f858bc6",
   "metadata": {},
   "source": [
    "#### Download the data"
   ]
  },
  {
   "cell_type": "markdown",
   "id": "65114a79-e5ce-44f7-b78e-04662f3d1258",
   "metadata": {},
   "source": [
    "The daily summary weather data was found on https://www.ncdc.noaa.gov/cdo-web/search.\n",
    "\n",
    "In this source, we can find daily records of high and low temperature and precipitation for most locations in the US.\n",
    "\n",
    "For our purpose, we choose to download the below dataset:\n",
    "\n",
    "- TYPE: Daily Summaries\n",
    "- Date Range: 2000-01-01 to 2022-12-31\n",
    "- STATION:\tUSW00024233\n",
    "- NAME:\t\tSEATTLE TACOMA AIRPORT, WA US\n",
    "- LATITUDE:\t47.44467\n",
    "- LONGITUDE:\t-122.31442\n",
    "- ELEVATION:\t112.5\n",
    "\n",
    "Datatype:\n",
    "- AWND = Average daily wind speed (miles per hour)\n",
    "- PRCP = Precipitation (inches)\n",
    "- SNOW = Snowfall (inches)\n",
    "- SNWD = Snow depth (inches)\n",
    "- TMAX = Maximum temperature (Fahrenheit)\n",
    "- TMIN = Minimum temperature (Fahrenheit)"
   ]
  },
  {
   "cell_type": "code",
   "execution_count": 2,
   "id": "73b93ae5-9ae3-4831-bd56-7fb3d091e26b",
   "metadata": {},
   "outputs": [
    {
     "data": {
      "text/html": [
       "<div>\n",
       "<style scoped>\n",
       "    .dataframe tbody tr th:only-of-type {\n",
       "        vertical-align: middle;\n",
       "    }\n",
       "\n",
       "    .dataframe tbody tr th {\n",
       "        vertical-align: top;\n",
       "    }\n",
       "\n",
       "    .dataframe thead th {\n",
       "        text-align: right;\n",
       "    }\n",
       "</style>\n",
       "<table border=\"1\" class=\"dataframe\">\n",
       "  <thead>\n",
       "    <tr style=\"text-align: right;\">\n",
       "      <th></th>\n",
       "      <th>wind_speed</th>\n",
       "      <th>precip</th>\n",
       "      <th>snow_fall</th>\n",
       "      <th>snow_depth</th>\n",
       "      <th>temp_max</th>\n",
       "      <th>temp_min</th>\n",
       "    </tr>\n",
       "    <tr>\n",
       "      <th>DATE</th>\n",
       "      <th></th>\n",
       "      <th></th>\n",
       "      <th></th>\n",
       "      <th></th>\n",
       "      <th></th>\n",
       "      <th></th>\n",
       "    </tr>\n",
       "  </thead>\n",
       "  <tbody>\n",
       "    <tr>\n",
       "      <th>2000-01-01</th>\n",
       "      <td>12.30</td>\n",
       "      <td>0.27</td>\n",
       "      <td>NaN</td>\n",
       "      <td>NaN</td>\n",
       "      <td>43</td>\n",
       "      <td>37</td>\n",
       "    </tr>\n",
       "    <tr>\n",
       "      <th>2000-01-02</th>\n",
       "      <td>8.95</td>\n",
       "      <td>0.00</td>\n",
       "      <td>NaN</td>\n",
       "      <td>NaN</td>\n",
       "      <td>45</td>\n",
       "      <td>37</td>\n",
       "    </tr>\n",
       "    <tr>\n",
       "      <th>2000-01-03</th>\n",
       "      <td>9.40</td>\n",
       "      <td>0.28</td>\n",
       "      <td>NaN</td>\n",
       "      <td>NaN</td>\n",
       "      <td>47</td>\n",
       "      <td>36</td>\n",
       "    </tr>\n",
       "    <tr>\n",
       "      <th>2000-01-04</th>\n",
       "      <td>13.42</td>\n",
       "      <td>0.30</td>\n",
       "      <td>NaN</td>\n",
       "      <td>NaN</td>\n",
       "      <td>50</td>\n",
       "      <td>42</td>\n",
       "    </tr>\n",
       "    <tr>\n",
       "      <th>2000-01-05</th>\n",
       "      <td>6.71</td>\n",
       "      <td>0.00</td>\n",
       "      <td>NaN</td>\n",
       "      <td>NaN</td>\n",
       "      <td>44</td>\n",
       "      <td>37</td>\n",
       "    </tr>\n",
       "  </tbody>\n",
       "</table>\n",
       "</div>"
      ],
      "text/plain": [
       "            wind_speed  precip  snow_fall  snow_depth  temp_max  temp_min\n",
       "DATE                                                                     \n",
       "2000-01-01       12.30    0.27        NaN         NaN        43        37\n",
       "2000-01-02        8.95    0.00        NaN         NaN        45        37\n",
       "2000-01-03        9.40    0.28        NaN         NaN        47        36\n",
       "2000-01-04       13.42    0.30        NaN         NaN        50        42\n",
       "2000-01-05        6.71    0.00        NaN         NaN        44        37"
      ]
     },
     "execution_count": 2,
     "metadata": {},
     "output_type": "execute_result"
    }
   ],
   "source": [
    "# Only a subset of columns will be selected for analysis\n",
    "usecols = { 'DATE':'date',\n",
    "            'TMAX':'temp_max', \n",
    "            'TMIN':'temp_min', \n",
    "            'AWND':'wind_speed',\n",
    "            'PRCP':'precip',            \n",
    "            'SNOW':'snow_fall', \n",
    "            'SNWD':'snow_depth', }\n",
    "\n",
    "# Load data from csv file and set DATE column as index\n",
    "data = pd.read_csv(\"SeattleWeather_2000_2022.csv\",\n",
    "                   usecols=list(usecols.keys()),                   \n",
    "                   index_col='DATE', parse_dates=True)\n",
    "\n",
    "# Rename columns for readability\n",
    "data.rename(usecols,  axis='columns', inplace=True)\n",
    "\n",
    "data.head()"
   ]
  },
  {
   "cell_type": "markdown",
   "id": "2fab7661-d143-48d0-a1d3-fc0c1e459e35",
   "metadata": {},
   "source": [
    "#### Preview data"
   ]
  },
  {
   "cell_type": "code",
   "execution_count": 3,
   "id": "e8147ef2-cc55-4999-80f2-a7f4ed548029",
   "metadata": {},
   "outputs": [
    {
     "name": "stdout",
     "output_type": "stream",
     "text": [
      "<class 'pandas.core.frame.DataFrame'>\n",
      "DatetimeIndex: 8401 entries, 2000-01-01 to 2022-12-31\n",
      "Data columns (total 6 columns):\n",
      " #   Column      Non-Null Count  Dtype  \n",
      "---  ------      --------------  -----  \n",
      " 0   wind_speed  8401 non-null   float64\n",
      " 1   precip      8397 non-null   float64\n",
      " 2   snow_fall   5144 non-null   float64\n",
      " 3   snow_depth  5146 non-null   float64\n",
      " 4   temp_max    8401 non-null   int64  \n",
      " 5   temp_min    8401 non-null   int64  \n",
      "dtypes: float64(4), int64(2)\n",
      "memory usage: 459.4 KB\n"
     ]
    }
   ],
   "source": [
    "# Conscise summary of dataframe\n",
    "data.info()"
   ]
  },
  {
   "cell_type": "markdown",
   "id": "a3672a25-7ecb-45b6-8ecd-ebf716a45bcc",
   "metadata": {},
   "source": [
    "- The record contains 8401 observed dates from 2000-01-01 to 2022-12-31\n",
    "- Datatype looks fine\n",
    "- There seems to be missing data for precip, snow_fall, snow_depth that will need to be handled"
   ]
  },
  {
   "cell_type": "code",
   "execution_count": 4,
   "id": "33c2d5a9-538f-4f23-a7c4-56ca45cc6402",
   "metadata": {},
   "outputs": [
    {
     "data": {
      "text/html": [
       "<div>\n",
       "<style scoped>\n",
       "    .dataframe tbody tr th:only-of-type {\n",
       "        vertical-align: middle;\n",
       "    }\n",
       "\n",
       "    .dataframe tbody tr th {\n",
       "        vertical-align: top;\n",
       "    }\n",
       "\n",
       "    .dataframe thead th {\n",
       "        text-align: right;\n",
       "    }\n",
       "</style>\n",
       "<table border=\"1\" class=\"dataframe\">\n",
       "  <thead>\n",
       "    <tr style=\"text-align: right;\">\n",
       "      <th></th>\n",
       "      <th>wind_speed</th>\n",
       "      <th>precip</th>\n",
       "      <th>snow_fall</th>\n",
       "      <th>snow_depth</th>\n",
       "      <th>temp_max</th>\n",
       "      <th>temp_min</th>\n",
       "    </tr>\n",
       "  </thead>\n",
       "  <tbody>\n",
       "    <tr>\n",
       "      <th>count</th>\n",
       "      <td>8401.000000</td>\n",
       "      <td>8397.000000</td>\n",
       "      <td>5144.000000</td>\n",
       "      <td>5146.000000</td>\n",
       "      <td>8401.000000</td>\n",
       "      <td>8401.000000</td>\n",
       "    </tr>\n",
       "    <tr>\n",
       "      <th>mean</th>\n",
       "      <td>7.502068</td>\n",
       "      <td>0.108159</td>\n",
       "      <td>0.021734</td>\n",
       "      <td>0.035853</td>\n",
       "      <td>60.463040</td>\n",
       "      <td>45.744197</td>\n",
       "    </tr>\n",
       "    <tr>\n",
       "      <th>std</th>\n",
       "      <td>3.076938</td>\n",
       "      <td>0.252712</td>\n",
       "      <td>0.277643</td>\n",
       "      <td>0.366146</td>\n",
       "      <td>12.977677</td>\n",
       "      <td>8.967224</td>\n",
       "    </tr>\n",
       "    <tr>\n",
       "      <th>min</th>\n",
       "      <td>0.000000</td>\n",
       "      <td>0.000000</td>\n",
       "      <td>0.000000</td>\n",
       "      <td>0.000000</td>\n",
       "      <td>25.000000</td>\n",
       "      <td>14.000000</td>\n",
       "    </tr>\n",
       "    <tr>\n",
       "      <th>25%</th>\n",
       "      <td>5.370000</td>\n",
       "      <td>0.000000</td>\n",
       "      <td>0.000000</td>\n",
       "      <td>0.000000</td>\n",
       "      <td>50.000000</td>\n",
       "      <td>39.000000</td>\n",
       "    </tr>\n",
       "    <tr>\n",
       "      <th>50%</th>\n",
       "      <td>6.930000</td>\n",
       "      <td>0.000000</td>\n",
       "      <td>0.000000</td>\n",
       "      <td>0.000000</td>\n",
       "      <td>59.000000</td>\n",
       "      <td>46.000000</td>\n",
       "    </tr>\n",
       "    <tr>\n",
       "      <th>75%</th>\n",
       "      <td>9.400000</td>\n",
       "      <td>0.100000</td>\n",
       "      <td>0.000000</td>\n",
       "      <td>0.000000</td>\n",
       "      <td>70.000000</td>\n",
       "      <td>53.000000</td>\n",
       "    </tr>\n",
       "    <tr>\n",
       "      <th>max</th>\n",
       "      <td>21.470000</td>\n",
       "      <td>5.020000</td>\n",
       "      <td>8.900000</td>\n",
       "      <td>7.100000</td>\n",
       "      <td>108.000000</td>\n",
       "      <td>73.000000</td>\n",
       "    </tr>\n",
       "  </tbody>\n",
       "</table>\n",
       "</div>"
      ],
      "text/plain": [
       "        wind_speed       precip    snow_fall   snow_depth     temp_max  \\\n",
       "count  8401.000000  8397.000000  5144.000000  5146.000000  8401.000000   \n",
       "mean      7.502068     0.108159     0.021734     0.035853    60.463040   \n",
       "std       3.076938     0.252712     0.277643     0.366146    12.977677   \n",
       "min       0.000000     0.000000     0.000000     0.000000    25.000000   \n",
       "25%       5.370000     0.000000     0.000000     0.000000    50.000000   \n",
       "50%       6.930000     0.000000     0.000000     0.000000    59.000000   \n",
       "75%       9.400000     0.100000     0.000000     0.000000    70.000000   \n",
       "max      21.470000     5.020000     8.900000     7.100000   108.000000   \n",
       "\n",
       "          temp_min  \n",
       "count  8401.000000  \n",
       "mean     45.744197  \n",
       "std       8.967224  \n",
       "min      14.000000  \n",
       "25%      39.000000  \n",
       "50%      46.000000  \n",
       "75%      53.000000  \n",
       "max      73.000000  "
      ]
     },
     "execution_count": 4,
     "metadata": {},
     "output_type": "execute_result"
    }
   ],
   "source": [
    "# Summary Statistics\n",
    "data.describe()"
   ]
  },
  {
   "cell_type": "markdown",
   "id": "bb665e13-f86a-45ec-b454-0a2f80bdea5e",
   "metadata": {},
   "source": [
    "- Record high temperature is 108 $^o$F.\n",
    "- Record low temperature is 14 $^o$F..\n",
    "- Record snow depth is 7.1 inches.\n",
    "- Record high windspeed is 21.47 miles per hours\n",
    "- Record precipation is 5.02 inches.\n",
    "\n",
    "\n",
    "**Note**: We noticed that the min of temp_avg is 0 while the min of temp_min is 14. Therefore there might be incorrect data in temp_avg. Let examine all the temp_avg that is lower than temp_min\n"
   ]
  },
  {
   "cell_type": "code",
   "execution_count": 5,
   "id": "7b72a88e-7e11-4831-a7d2-a3d774e90e39",
   "metadata": {},
   "outputs": [],
   "source": [
    "# Save concise data to csv\n",
    "data.to_csv(\"Concise_data.csv\")"
   ]
  },
  {
   "cell_type": "markdown",
   "id": "24d7c486-8736-4333-a51e-ac0d99d3f541",
   "metadata": {
    "tags": []
   },
   "source": [
    "## Clean data"
   ]
  },
  {
   "cell_type": "markdown",
   "id": "2256fcbc-39dc-41f3-9ae0-87de8611b10b",
   "metadata": {
    "tags": []
   },
   "source": [
    "#### Missing data"
   ]
  },
  {
   "cell_type": "code",
   "execution_count": 6,
   "id": "88949b51-02ed-44d6-b0ee-ba60a61733be",
   "metadata": {},
   "outputs": [
    {
     "data": {
      "text/plain": [
       "wind_speed       0\n",
       "precip           4\n",
       "snow_fall     3257\n",
       "snow_depth    3255\n",
       "temp_max         0\n",
       "temp_min         0\n",
       "dtype: int64"
      ]
     },
     "execution_count": 6,
     "metadata": {},
     "output_type": "execute_result"
    }
   ],
   "source": [
    "# Count missing data for each column\n",
    "data.isna().sum()"
   ]
  },
  {
   "cell_type": "markdown",
   "id": "8f488b4f-1c3a-420c-8ab2-b3002df53342",
   "metadata": {},
   "source": [
    "- wind_speed, temp_max, temp_min columns don't have any missing data\n",
    "- precip only have 4 missing data\n",
    "-  snow_fall, and snow_depth have more than 3000 data missing\n",
    "\n",
    "We will take a closer look at those missing data column and decide how to handle them"
   ]
  },
  {
   "cell_type": "code",
   "execution_count": 7,
   "id": "d56e146e-22c1-4ff4-93b3-a8ecc562ac9f",
   "metadata": {},
   "outputs": [],
   "source": [
    "# Seperate weather data type for eaiser handle\n",
    "temp = data[[\"temp_max\",\"temp_min\"]].copy()\n",
    "temp['temp_avg'] = temp.mean(axis=1)\n",
    "wind = data[[\"wind_speed\"]].copy()\n",
    "precip = data[[\"precip\"]].copy()\n",
    "snow = data[[ \"snow_fall\", \"snow_depth\"]].copy()"
   ]
  },
  {
   "cell_type": "markdown",
   "id": "db93ddea-56b8-4e71-bf74-689dd6fe2335",
   "metadata": {
    "tags": []
   },
   "source": [
    "#### Precipation"
   ]
  },
  {
   "cell_type": "code",
   "execution_count": 8,
   "id": "5597ec83-49b9-4361-b25f-0d54566202b1",
   "metadata": {},
   "outputs": [
    {
     "data": {
      "text/html": [
       "<div>\n",
       "<style scoped>\n",
       "    .dataframe tbody tr th:only-of-type {\n",
       "        vertical-align: middle;\n",
       "    }\n",
       "\n",
       "    .dataframe tbody tr th {\n",
       "        vertical-align: top;\n",
       "    }\n",
       "\n",
       "    .dataframe thead th {\n",
       "        text-align: right;\n",
       "    }\n",
       "</style>\n",
       "<table border=\"1\" class=\"dataframe\">\n",
       "  <thead>\n",
       "    <tr style=\"text-align: right;\">\n",
       "      <th></th>\n",
       "      <th>precip</th>\n",
       "    </tr>\n",
       "    <tr>\n",
       "      <th>DATE</th>\n",
       "      <th></th>\n",
       "    </tr>\n",
       "  </thead>\n",
       "  <tbody>\n",
       "    <tr>\n",
       "      <th>2005-09-05</th>\n",
       "      <td>NaN</td>\n",
       "    </tr>\n",
       "    <tr>\n",
       "      <th>2021-12-18</th>\n",
       "      <td>NaN</td>\n",
       "    </tr>\n",
       "    <tr>\n",
       "      <th>2021-12-28</th>\n",
       "      <td>NaN</td>\n",
       "    </tr>\n",
       "    <tr>\n",
       "      <th>2021-12-30</th>\n",
       "      <td>NaN</td>\n",
       "    </tr>\n",
       "  </tbody>\n",
       "</table>\n",
       "</div>"
      ],
      "text/plain": [
       "            precip\n",
       "DATE              \n",
       "2005-09-05     NaN\n",
       "2021-12-18     NaN\n",
       "2021-12-28     NaN\n",
       "2021-12-30     NaN"
      ]
     },
     "execution_count": 8,
     "metadata": {},
     "output_type": "execute_result"
    }
   ],
   "source": [
    "# Examine data points with NA values \n",
    "precip_null = precip[\"precip\"].isna()\n",
    "precip[precip_null]"
   ]
  },
  {
   "cell_type": "markdown",
   "id": "5d4c3d79-b82b-4f5d-bdec-70f5b19d5414",
   "metadata": {
    "tags": []
   },
   "source": [
    "##### Zoom in to adjacents dates to NA values"
   ]
  },
  {
   "cell_type": "code",
   "execution_count": 9,
   "id": "8013b0c4-453c-4e3a-b036-431396224be7",
   "metadata": {},
   "outputs": [
    {
     "data": {
      "text/html": [
       "<div>\n",
       "<style scoped>\n",
       "    .dataframe tbody tr th:only-of-type {\n",
       "        vertical-align: middle;\n",
       "    }\n",
       "\n",
       "    .dataframe tbody tr th {\n",
       "        vertical-align: top;\n",
       "    }\n",
       "\n",
       "    .dataframe thead th {\n",
       "        text-align: right;\n",
       "    }\n",
       "</style>\n",
       "<table border=\"1\" class=\"dataframe\">\n",
       "  <thead>\n",
       "    <tr style=\"text-align: right;\">\n",
       "      <th></th>\n",
       "      <th>precip</th>\n",
       "    </tr>\n",
       "    <tr>\n",
       "      <th>DATE</th>\n",
       "      <th></th>\n",
       "    </tr>\n",
       "  </thead>\n",
       "  <tbody>\n",
       "    <tr>\n",
       "      <th>2005-09-02</th>\n",
       "      <td>0.0</td>\n",
       "    </tr>\n",
       "    <tr>\n",
       "      <th>2005-09-03</th>\n",
       "      <td>0.0</td>\n",
       "    </tr>\n",
       "    <tr>\n",
       "      <th>2005-09-04</th>\n",
       "      <td>0.0</td>\n",
       "    </tr>\n",
       "    <tr>\n",
       "      <th>2005-09-05</th>\n",
       "      <td>NaN</td>\n",
       "    </tr>\n",
       "    <tr>\n",
       "      <th>2005-09-06</th>\n",
       "      <td>0.0</td>\n",
       "    </tr>\n",
       "    <tr>\n",
       "      <th>2005-09-07</th>\n",
       "      <td>0.0</td>\n",
       "    </tr>\n",
       "    <tr>\n",
       "      <th>2005-09-08</th>\n",
       "      <td>0.0</td>\n",
       "    </tr>\n",
       "  </tbody>\n",
       "</table>\n",
       "</div>"
      ],
      "text/plain": [
       "            precip\n",
       "DATE              \n",
       "2005-09-02     0.0\n",
       "2005-09-03     0.0\n",
       "2005-09-04     0.0\n",
       "2005-09-05     NaN\n",
       "2005-09-06     0.0\n",
       "2005-09-07     0.0\n",
       "2005-09-08     0.0"
      ]
     },
     "execution_count": 9,
     "metadata": {},
     "output_type": "execute_result"
    }
   ],
   "source": [
    "precip.loc['2005-09-02':'2005-09-08']"
   ]
  },
  {
   "cell_type": "code",
   "execution_count": 10,
   "id": "17563a8a-d0f4-4528-a864-b0a857f6b7af",
   "metadata": {},
   "outputs": [
    {
     "data": {
      "text/html": [
       "<div>\n",
       "<style scoped>\n",
       "    .dataframe tbody tr th:only-of-type {\n",
       "        vertical-align: middle;\n",
       "    }\n",
       "\n",
       "    .dataframe tbody tr th {\n",
       "        vertical-align: top;\n",
       "    }\n",
       "\n",
       "    .dataframe thead th {\n",
       "        text-align: right;\n",
       "    }\n",
       "</style>\n",
       "<table border=\"1\" class=\"dataframe\">\n",
       "  <thead>\n",
       "    <tr style=\"text-align: right;\">\n",
       "      <th></th>\n",
       "      <th>precip</th>\n",
       "    </tr>\n",
       "    <tr>\n",
       "      <th>DATE</th>\n",
       "      <th></th>\n",
       "    </tr>\n",
       "  </thead>\n",
       "  <tbody>\n",
       "    <tr>\n",
       "      <th>2021-12-15</th>\n",
       "      <td>0.08</td>\n",
       "    </tr>\n",
       "    <tr>\n",
       "      <th>2021-12-16</th>\n",
       "      <td>0.05</td>\n",
       "    </tr>\n",
       "    <tr>\n",
       "      <th>2021-12-17</th>\n",
       "      <td>0.18</td>\n",
       "    </tr>\n",
       "    <tr>\n",
       "      <th>2021-12-18</th>\n",
       "      <td>NaN</td>\n",
       "    </tr>\n",
       "    <tr>\n",
       "      <th>2021-12-19</th>\n",
       "      <td>0.00</td>\n",
       "    </tr>\n",
       "    <tr>\n",
       "      <th>2021-12-20</th>\n",
       "      <td>0.26</td>\n",
       "    </tr>\n",
       "    <tr>\n",
       "      <th>2021-12-21</th>\n",
       "      <td>0.19</td>\n",
       "    </tr>\n",
       "    <tr>\n",
       "      <th>2021-12-22</th>\n",
       "      <td>0.43</td>\n",
       "    </tr>\n",
       "    <tr>\n",
       "      <th>2021-12-23</th>\n",
       "      <td>0.16</td>\n",
       "    </tr>\n",
       "    <tr>\n",
       "      <th>2021-12-24</th>\n",
       "      <td>0.33</td>\n",
       "    </tr>\n",
       "    <tr>\n",
       "      <th>2021-12-25</th>\n",
       "      <td>0.13</td>\n",
       "    </tr>\n",
       "    <tr>\n",
       "      <th>2021-12-26</th>\n",
       "      <td>0.26</td>\n",
       "    </tr>\n",
       "    <tr>\n",
       "      <th>2021-12-27</th>\n",
       "      <td>0.03</td>\n",
       "    </tr>\n",
       "    <tr>\n",
       "      <th>2021-12-28</th>\n",
       "      <td>NaN</td>\n",
       "    </tr>\n",
       "    <tr>\n",
       "      <th>2021-12-29</th>\n",
       "      <td>0.13</td>\n",
       "    </tr>\n",
       "    <tr>\n",
       "      <th>2021-12-30</th>\n",
       "      <td>NaN</td>\n",
       "    </tr>\n",
       "    <tr>\n",
       "      <th>2021-12-31</th>\n",
       "      <td>0.00</td>\n",
       "    </tr>\n",
       "    <tr>\n",
       "      <th>2022-01-01</th>\n",
       "      <td>0.00</td>\n",
       "    </tr>\n",
       "    <tr>\n",
       "      <th>2022-01-02</th>\n",
       "      <td>0.79</td>\n",
       "    </tr>\n",
       "  </tbody>\n",
       "</table>\n",
       "</div>"
      ],
      "text/plain": [
       "            precip\n",
       "DATE              \n",
       "2021-12-15    0.08\n",
       "2021-12-16    0.05\n",
       "2021-12-17    0.18\n",
       "2021-12-18     NaN\n",
       "2021-12-19    0.00\n",
       "2021-12-20    0.26\n",
       "2021-12-21    0.19\n",
       "2021-12-22    0.43\n",
       "2021-12-23    0.16\n",
       "2021-12-24    0.33\n",
       "2021-12-25    0.13\n",
       "2021-12-26    0.26\n",
       "2021-12-27    0.03\n",
       "2021-12-28     NaN\n",
       "2021-12-29    0.13\n",
       "2021-12-30     NaN\n",
       "2021-12-31    0.00\n",
       "2022-01-01    0.00\n",
       "2022-01-02    0.79"
      ]
     },
     "execution_count": 10,
     "metadata": {},
     "output_type": "execute_result"
    }
   ],
   "source": [
    "precip.loc['2021-12-15':'2022-01-02']"
   ]
  },
  {
   "cell_type": "markdown",
   "id": "adba0ce9-b81b-4d70-aef1-80fbaa05e5ad",
   "metadata": {},
   "source": [
    "##### Fill in NA"
   ]
  },
  {
   "cell_type": "markdown",
   "id": "3ade3ab8-64cd-4321-8806-f5ff7588f5e2",
   "metadata": {},
   "source": [
    "Given that this is time series data, we can utilize the \"time\" method of pandas.DataFrame.interpolate to effectively impute missing precipitation data using linear interpolation on DatatimeIndex.\n",
    "\n",
    "Linear interpolation assume relationships betweens two data points is linear and and estimate the value at a point between them."
   ]
  },
  {
   "cell_type": "code",
   "execution_count": 11,
   "id": "0c6e62dc-688c-4293-a74f-6fe74d460345",
   "metadata": {},
   "outputs": [],
   "source": [
    "# Fill in missing values\n",
    "precip.interpolate('time', inplace=True)"
   ]
  },
  {
   "cell_type": "code",
   "execution_count": 12,
   "id": "7b61551d-a323-4295-bc36-dc9aceb14eda",
   "metadata": {},
   "outputs": [
    {
     "data": {
      "text/html": [
       "<div>\n",
       "<style scoped>\n",
       "    .dataframe tbody tr th:only-of-type {\n",
       "        vertical-align: middle;\n",
       "    }\n",
       "\n",
       "    .dataframe tbody tr th {\n",
       "        vertical-align: top;\n",
       "    }\n",
       "\n",
       "    .dataframe thead th {\n",
       "        text-align: right;\n",
       "    }\n",
       "</style>\n",
       "<table border=\"1\" class=\"dataframe\">\n",
       "  <thead>\n",
       "    <tr style=\"text-align: right;\">\n",
       "      <th></th>\n",
       "      <th>precip</th>\n",
       "    </tr>\n",
       "    <tr>\n",
       "      <th>DATE</th>\n",
       "      <th></th>\n",
       "    </tr>\n",
       "  </thead>\n",
       "  <tbody>\n",
       "    <tr>\n",
       "      <th>2005-09-05</th>\n",
       "      <td>0.000</td>\n",
       "    </tr>\n",
       "    <tr>\n",
       "      <th>2021-12-18</th>\n",
       "      <td>0.090</td>\n",
       "    </tr>\n",
       "    <tr>\n",
       "      <th>2021-12-28</th>\n",
       "      <td>0.080</td>\n",
       "    </tr>\n",
       "    <tr>\n",
       "      <th>2021-12-30</th>\n",
       "      <td>0.065</td>\n",
       "    </tr>\n",
       "  </tbody>\n",
       "</table>\n",
       "</div>"
      ],
      "text/plain": [
       "            precip\n",
       "DATE              \n",
       "2005-09-05   0.000\n",
       "2021-12-18   0.090\n",
       "2021-12-28   0.080\n",
       "2021-12-30   0.065"
      ]
     },
     "execution_count": 12,
     "metadata": {},
     "output_type": "execute_result"
    }
   ],
   "source": [
    "# Check to see if missing values are filled\n",
    "precip[precip_null]"
   ]
  },
  {
   "cell_type": "markdown",
   "id": "702b2d11-325c-47d8-94ca-cd9a1afe20fb",
   "metadata": {
    "tags": []
   },
   "source": [
    "##### Zoom in to verify"
   ]
  },
  {
   "cell_type": "code",
   "execution_count": 13,
   "id": "d7b1c145-cc08-4b37-ba76-f082e4b162ff",
   "metadata": {},
   "outputs": [
    {
     "data": {
      "text/html": [
       "<div>\n",
       "<style scoped>\n",
       "    .dataframe tbody tr th:only-of-type {\n",
       "        vertical-align: middle;\n",
       "    }\n",
       "\n",
       "    .dataframe tbody tr th {\n",
       "        vertical-align: top;\n",
       "    }\n",
       "\n",
       "    .dataframe thead th {\n",
       "        text-align: right;\n",
       "    }\n",
       "</style>\n",
       "<table border=\"1\" class=\"dataframe\">\n",
       "  <thead>\n",
       "    <tr style=\"text-align: right;\">\n",
       "      <th></th>\n",
       "      <th>precip</th>\n",
       "    </tr>\n",
       "    <tr>\n",
       "      <th>DATE</th>\n",
       "      <th></th>\n",
       "    </tr>\n",
       "  </thead>\n",
       "  <tbody>\n",
       "    <tr>\n",
       "      <th>2005-09-02</th>\n",
       "      <td>0.0</td>\n",
       "    </tr>\n",
       "    <tr>\n",
       "      <th>2005-09-03</th>\n",
       "      <td>0.0</td>\n",
       "    </tr>\n",
       "    <tr>\n",
       "      <th>2005-09-04</th>\n",
       "      <td>0.0</td>\n",
       "    </tr>\n",
       "    <tr>\n",
       "      <th>2005-09-05</th>\n",
       "      <td>0.0</td>\n",
       "    </tr>\n",
       "    <tr>\n",
       "      <th>2005-09-06</th>\n",
       "      <td>0.0</td>\n",
       "    </tr>\n",
       "    <tr>\n",
       "      <th>2005-09-07</th>\n",
       "      <td>0.0</td>\n",
       "    </tr>\n",
       "    <tr>\n",
       "      <th>2005-09-08</th>\n",
       "      <td>0.0</td>\n",
       "    </tr>\n",
       "  </tbody>\n",
       "</table>\n",
       "</div>"
      ],
      "text/plain": [
       "            precip\n",
       "DATE              \n",
       "2005-09-02     0.0\n",
       "2005-09-03     0.0\n",
       "2005-09-04     0.0\n",
       "2005-09-05     0.0\n",
       "2005-09-06     0.0\n",
       "2005-09-07     0.0\n",
       "2005-09-08     0.0"
      ]
     },
     "execution_count": 13,
     "metadata": {},
     "output_type": "execute_result"
    }
   ],
   "source": [
    "precip.loc['2005-09-02':'2005-09-8']"
   ]
  },
  {
   "cell_type": "markdown",
   "id": "839c7e3e-841d-43fb-8e12-51404f23ab43",
   "metadata": {},
   "source": [
    "Since the values of the previous date (2005-09-04) and next date (2005-09-06) are both 0, the value of 2005-09-05 would be (0+0)/2 = 0."
   ]
  },
  {
   "cell_type": "code",
   "execution_count": 14,
   "id": "b70bf636-74b0-4ac2-bd06-aa83c5217458",
   "metadata": {},
   "outputs": [
    {
     "data": {
      "text/html": [
       "<div>\n",
       "<style scoped>\n",
       "    .dataframe tbody tr th:only-of-type {\n",
       "        vertical-align: middle;\n",
       "    }\n",
       "\n",
       "    .dataframe tbody tr th {\n",
       "        vertical-align: top;\n",
       "    }\n",
       "\n",
       "    .dataframe thead th {\n",
       "        text-align: right;\n",
       "    }\n",
       "</style>\n",
       "<table border=\"1\" class=\"dataframe\">\n",
       "  <thead>\n",
       "    <tr style=\"text-align: right;\">\n",
       "      <th></th>\n",
       "      <th>precip</th>\n",
       "    </tr>\n",
       "    <tr>\n",
       "      <th>DATE</th>\n",
       "      <th></th>\n",
       "    </tr>\n",
       "  </thead>\n",
       "  <tbody>\n",
       "    <tr>\n",
       "      <th>2021-12-15</th>\n",
       "      <td>0.080</td>\n",
       "    </tr>\n",
       "    <tr>\n",
       "      <th>2021-12-16</th>\n",
       "      <td>0.050</td>\n",
       "    </tr>\n",
       "    <tr>\n",
       "      <th>2021-12-17</th>\n",
       "      <td>0.180</td>\n",
       "    </tr>\n",
       "    <tr>\n",
       "      <th>2021-12-18</th>\n",
       "      <td>0.090</td>\n",
       "    </tr>\n",
       "    <tr>\n",
       "      <th>2021-12-19</th>\n",
       "      <td>0.000</td>\n",
       "    </tr>\n",
       "    <tr>\n",
       "      <th>2021-12-20</th>\n",
       "      <td>0.260</td>\n",
       "    </tr>\n",
       "    <tr>\n",
       "      <th>2021-12-21</th>\n",
       "      <td>0.190</td>\n",
       "    </tr>\n",
       "    <tr>\n",
       "      <th>2021-12-22</th>\n",
       "      <td>0.430</td>\n",
       "    </tr>\n",
       "    <tr>\n",
       "      <th>2021-12-23</th>\n",
       "      <td>0.160</td>\n",
       "    </tr>\n",
       "    <tr>\n",
       "      <th>2021-12-24</th>\n",
       "      <td>0.330</td>\n",
       "    </tr>\n",
       "    <tr>\n",
       "      <th>2021-12-25</th>\n",
       "      <td>0.130</td>\n",
       "    </tr>\n",
       "    <tr>\n",
       "      <th>2021-12-26</th>\n",
       "      <td>0.260</td>\n",
       "    </tr>\n",
       "    <tr>\n",
       "      <th>2021-12-27</th>\n",
       "      <td>0.030</td>\n",
       "    </tr>\n",
       "    <tr>\n",
       "      <th>2021-12-28</th>\n",
       "      <td>0.080</td>\n",
       "    </tr>\n",
       "    <tr>\n",
       "      <th>2021-12-29</th>\n",
       "      <td>0.130</td>\n",
       "    </tr>\n",
       "    <tr>\n",
       "      <th>2021-12-30</th>\n",
       "      <td>0.065</td>\n",
       "    </tr>\n",
       "    <tr>\n",
       "      <th>2021-12-31</th>\n",
       "      <td>0.000</td>\n",
       "    </tr>\n",
       "    <tr>\n",
       "      <th>2022-01-01</th>\n",
       "      <td>0.000</td>\n",
       "    </tr>\n",
       "    <tr>\n",
       "      <th>2022-01-02</th>\n",
       "      <td>0.790</td>\n",
       "    </tr>\n",
       "  </tbody>\n",
       "</table>\n",
       "</div>"
      ],
      "text/plain": [
       "            precip\n",
       "DATE              \n",
       "2021-12-15   0.080\n",
       "2021-12-16   0.050\n",
       "2021-12-17   0.180\n",
       "2021-12-18   0.090\n",
       "2021-12-19   0.000\n",
       "2021-12-20   0.260\n",
       "2021-12-21   0.190\n",
       "2021-12-22   0.430\n",
       "2021-12-23   0.160\n",
       "2021-12-24   0.330\n",
       "2021-12-25   0.130\n",
       "2021-12-26   0.260\n",
       "2021-12-27   0.030\n",
       "2021-12-28   0.080\n",
       "2021-12-29   0.130\n",
       "2021-12-30   0.065\n",
       "2021-12-31   0.000\n",
       "2022-01-01   0.000\n",
       "2022-01-02   0.790"
      ]
     },
     "execution_count": 14,
     "metadata": {},
     "output_type": "execute_result"
    }
   ],
   "source": [
    "precip.loc['2021-12-15':'2022-01-02']"
   ]
  },
  {
   "cell_type": "markdown",
   "id": "52750050-b9b3-48e9-aa6a-0d7bda105b55",
   "metadata": {},
   "source": [
    "- For 2021-12-18, the filled in value = (value of 2021-12-17 + value of 2021-12-19)/2 = (0.18+0)/2 = 0.09\n",
    "- Similarly, for 2021-12-28, filled in value = (0.03+0.13)/2 = 0.08\n",
    "- For 2021-12-30, filled in value = (0.13+0.0)/2 = 0.065"
   ]
  },
  {
   "cell_type": "markdown",
   "id": "1f6c05c6-42c7-429b-953a-4d6f20bc0571",
   "metadata": {},
   "source": [
    "#### Snow"
   ]
  },
  {
   "cell_type": "code",
   "execution_count": 15,
   "id": "d320d684-ea69-4d8b-8197-b2c0b95e4725",
   "metadata": {},
   "outputs": [
    {
     "data": {
      "text/html": [
       "<div>\n",
       "<style scoped>\n",
       "    .dataframe tbody tr th:only-of-type {\n",
       "        vertical-align: middle;\n",
       "    }\n",
       "\n",
       "    .dataframe tbody tr th {\n",
       "        vertical-align: top;\n",
       "    }\n",
       "\n",
       "    .dataframe thead th {\n",
       "        text-align: right;\n",
       "    }\n",
       "</style>\n",
       "<table border=\"1\" class=\"dataframe\">\n",
       "  <thead>\n",
       "    <tr style=\"text-align: right;\">\n",
       "      <th></th>\n",
       "      <th>snow_fall</th>\n",
       "      <th>snow_depth</th>\n",
       "    </tr>\n",
       "    <tr>\n",
       "      <th>DATE</th>\n",
       "      <th></th>\n",
       "      <th></th>\n",
       "    </tr>\n",
       "  </thead>\n",
       "  <tbody>\n",
       "    <tr>\n",
       "      <th>2000-01-01</th>\n",
       "      <td>NaN</td>\n",
       "      <td>NaN</td>\n",
       "    </tr>\n",
       "    <tr>\n",
       "      <th>2000-01-02</th>\n",
       "      <td>NaN</td>\n",
       "      <td>NaN</td>\n",
       "    </tr>\n",
       "    <tr>\n",
       "      <th>2000-01-03</th>\n",
       "      <td>NaN</td>\n",
       "      <td>NaN</td>\n",
       "    </tr>\n",
       "    <tr>\n",
       "      <th>2000-01-04</th>\n",
       "      <td>NaN</td>\n",
       "      <td>NaN</td>\n",
       "    </tr>\n",
       "    <tr>\n",
       "      <th>2000-01-05</th>\n",
       "      <td>NaN</td>\n",
       "      <td>NaN</td>\n",
       "    </tr>\n",
       "    <tr>\n",
       "      <th>...</th>\n",
       "      <td>...</td>\n",
       "      <td>...</td>\n",
       "    </tr>\n",
       "    <tr>\n",
       "      <th>2008-11-26</th>\n",
       "      <td>NaN</td>\n",
       "      <td>NaN</td>\n",
       "    </tr>\n",
       "    <tr>\n",
       "      <th>2008-11-27</th>\n",
       "      <td>NaN</td>\n",
       "      <td>NaN</td>\n",
       "    </tr>\n",
       "    <tr>\n",
       "      <th>2008-11-28</th>\n",
       "      <td>NaN</td>\n",
       "      <td>NaN</td>\n",
       "    </tr>\n",
       "    <tr>\n",
       "      <th>2008-11-29</th>\n",
       "      <td>NaN</td>\n",
       "      <td>NaN</td>\n",
       "    </tr>\n",
       "    <tr>\n",
       "      <th>2008-11-30</th>\n",
       "      <td>NaN</td>\n",
       "      <td>NaN</td>\n",
       "    </tr>\n",
       "  </tbody>\n",
       "</table>\n",
       "<p>3257 rows × 2 columns</p>\n",
       "</div>"
      ],
      "text/plain": [
       "            snow_fall  snow_depth\n",
       "DATE                             \n",
       "2000-01-01        NaN         NaN\n",
       "2000-01-02        NaN         NaN\n",
       "2000-01-03        NaN         NaN\n",
       "2000-01-04        NaN         NaN\n",
       "2000-01-05        NaN         NaN\n",
       "...               ...         ...\n",
       "2008-11-26        NaN         NaN\n",
       "2008-11-27        NaN         NaN\n",
       "2008-11-28        NaN         NaN\n",
       "2008-11-29        NaN         NaN\n",
       "2008-11-30        NaN         NaN\n",
       "\n",
       "[3257 rows x 2 columns]"
      ]
     },
     "execution_count": 15,
     "metadata": {},
     "output_type": "execute_result"
    }
   ],
   "source": [
    "# Investigate missing data\n",
    "snow[snow[\"snow_fall\"].isna()]"
   ]
  },
  {
   "cell_type": "code",
   "execution_count": 16,
   "id": "3125d562-df04-4c85-bf76-0f9f78222560",
   "metadata": {},
   "outputs": [
    {
     "data": {
      "text/html": [
       "<div>\n",
       "<style scoped>\n",
       "    .dataframe tbody tr th:only-of-type {\n",
       "        vertical-align: middle;\n",
       "    }\n",
       "\n",
       "    .dataframe tbody tr th {\n",
       "        vertical-align: top;\n",
       "    }\n",
       "\n",
       "    .dataframe thead th {\n",
       "        text-align: right;\n",
       "    }\n",
       "</style>\n",
       "<table border=\"1\" class=\"dataframe\">\n",
       "  <thead>\n",
       "    <tr style=\"text-align: right;\">\n",
       "      <th></th>\n",
       "      <th>snow_fall</th>\n",
       "      <th>snow_depth</th>\n",
       "    </tr>\n",
       "    <tr>\n",
       "      <th>DATE</th>\n",
       "      <th></th>\n",
       "      <th></th>\n",
       "    </tr>\n",
       "  </thead>\n",
       "  <tbody>\n",
       "    <tr>\n",
       "      <th>2000-01-01</th>\n",
       "      <td>NaN</td>\n",
       "      <td>NaN</td>\n",
       "    </tr>\n",
       "    <tr>\n",
       "      <th>2000-01-02</th>\n",
       "      <td>NaN</td>\n",
       "      <td>NaN</td>\n",
       "    </tr>\n",
       "    <tr>\n",
       "      <th>2000-01-03</th>\n",
       "      <td>NaN</td>\n",
       "      <td>NaN</td>\n",
       "    </tr>\n",
       "    <tr>\n",
       "      <th>2000-01-04</th>\n",
       "      <td>NaN</td>\n",
       "      <td>NaN</td>\n",
       "    </tr>\n",
       "    <tr>\n",
       "      <th>2000-01-05</th>\n",
       "      <td>NaN</td>\n",
       "      <td>NaN</td>\n",
       "    </tr>\n",
       "    <tr>\n",
       "      <th>...</th>\n",
       "      <td>...</td>\n",
       "      <td>...</td>\n",
       "    </tr>\n",
       "    <tr>\n",
       "      <th>2008-11-26</th>\n",
       "      <td>NaN</td>\n",
       "      <td>NaN</td>\n",
       "    </tr>\n",
       "    <tr>\n",
       "      <th>2008-11-27</th>\n",
       "      <td>NaN</td>\n",
       "      <td>NaN</td>\n",
       "    </tr>\n",
       "    <tr>\n",
       "      <th>2008-11-28</th>\n",
       "      <td>NaN</td>\n",
       "      <td>NaN</td>\n",
       "    </tr>\n",
       "    <tr>\n",
       "      <th>2008-11-29</th>\n",
       "      <td>NaN</td>\n",
       "      <td>NaN</td>\n",
       "    </tr>\n",
       "    <tr>\n",
       "      <th>2008-11-30</th>\n",
       "      <td>NaN</td>\n",
       "      <td>NaN</td>\n",
       "    </tr>\n",
       "  </tbody>\n",
       "</table>\n",
       "<p>3255 rows × 2 columns</p>\n",
       "</div>"
      ],
      "text/plain": [
       "            snow_fall  snow_depth\n",
       "DATE                             \n",
       "2000-01-01        NaN         NaN\n",
       "2000-01-02        NaN         NaN\n",
       "2000-01-03        NaN         NaN\n",
       "2000-01-04        NaN         NaN\n",
       "2000-01-05        NaN         NaN\n",
       "...               ...         ...\n",
       "2008-11-26        NaN         NaN\n",
       "2008-11-27        NaN         NaN\n",
       "2008-11-28        NaN         NaN\n",
       "2008-11-29        NaN         NaN\n",
       "2008-11-30        NaN         NaN\n",
       "\n",
       "[3255 rows x 2 columns]"
      ]
     },
     "execution_count": 16,
     "metadata": {},
     "output_type": "execute_result"
    }
   ],
   "source": [
    "snow[snow[\"snow_depth\"].isna()]"
   ]
  },
  {
   "cell_type": "markdown",
   "id": "bc4d412c-b574-43fc-8985-e26850fedb88",
   "metadata": {},
   "source": [
    "It looks like most of the data from Jan 2000 to Nov 2008 is missing. Let's confirm."
   ]
  },
  {
   "cell_type": "code",
   "execution_count": 17,
   "id": "f20f0cc8-6420-472f-9cbc-4e84f8f1018b",
   "metadata": {},
   "outputs": [
    {
     "data": {
      "text/plain": [
       "snow_fall     0\n",
       "snow_depth    2\n",
       "dtype: int64"
      ]
     },
     "execution_count": 17,
     "metadata": {},
     "output_type": "execute_result"
    }
   ],
   "source": [
    "snow.loc['2000-01-01':'2008-11-30'].notna().sum()"
   ]
  },
  {
   "cell_type": "markdown",
   "id": "d08f3b56-46f1-47fa-8728-df6a4b4565b2",
   "metadata": {},
   "source": [
    "Since the data are missing continuously for a long period of time, it seems like the data for now was not collected at all for this perion. Therefore, it's more effective to remove all data before Nov 2008 than to try to fill them."
   ]
  },
  {
   "cell_type": "code",
   "execution_count": 18,
   "id": "e597a15b-655b-44ed-978d-476feef889a2",
   "metadata": {},
   "outputs": [],
   "source": [
    "# For snow, we only use data from Dec 2008 to Dec 2022\n",
    "snow = snow.loc['2008-12-01':]"
   ]
  },
  {
   "cell_type": "code",
   "execution_count": 19,
   "id": "cb327977-ede7-45b8-8c27-5dfad764799c",
   "metadata": {},
   "outputs": [
    {
     "data": {
      "text/plain": [
       "snow_fall     0\n",
       "snow_depth    0\n",
       "dtype: int64"
      ]
     },
     "execution_count": 19,
     "metadata": {},
     "output_type": "execute_result"
    }
   ],
   "source": [
    "# Check if there is any missing data left after slicing\n",
    "snow.isna().sum()"
   ]
  },
  {
   "cell_type": "markdown",
   "id": "c4663ca9-361f-43c5-b9e3-de1c34d0d1cd",
   "metadata": {},
   "source": [
    "After removing data before 2008-12-01, there is no missing values for snow data."
   ]
  },
  {
   "cell_type": "markdown",
   "id": "76f87015-bb67-495e-a962-bd94992a587a",
   "metadata": {},
   "source": [
    "## Visualization"
   ]
  },
  {
   "cell_type": "markdown",
   "id": "cdf50d37-dd70-46ac-836c-90e83719d8e5",
   "metadata": {
    "tags": []
   },
   "source": [
    "### 1. Temperature"
   ]
  },
  {
   "cell_type": "markdown",
   "id": "868e004b-36dd-4ae2-9d64-fcefe837f4fd",
   "metadata": {},
   "source": [
    "#### What is the montly temperature is normally like throughout the year in seattle?"
   ]
  },
  {
   "cell_type": "markdown",
   "id": "21fbcf79-21e7-4abb-8310-dbe5a45c010c",
   "metadata": {},
   "source": [
    "**Normal** definition from https://forecast.weather.gov/glossary.php?word=normal\n",
    "\n",
    "The long-term average value of a meteorological paramater (i.e., temperature, humidity, etc.) for a certain area. For example, \"temperatures are normal for this time of year\" means that temperatures are at or near the average climatological value for the given date. Normals are usually taken from data averaged over a 30-year period (e.g., 1971-2000 average), and are concerned with the distribution of data within limits of common occurrence."
   ]
  },
  {
   "cell_type": "markdown",
   "id": "7f303d3b-1c6d-45aa-9f83-97a96b23261e",
   "metadata": {},
   "source": [
    "**Calculate mean monthly temperature over 2000 - 2022** \n",
    "\n",
    "For example, for January teperature normal, we sum up all daily temperature of all January from 2000 to 2022 and divide it by the number of observation dates."
   ]
  },
  {
   "cell_type": "code",
   "execution_count": 20,
   "id": "50c3ab3a-08bb-440c-aa72-96218aed176e",
   "metadata": {},
   "outputs": [],
   "source": [
    "monthly_temp = temp.groupby([temp.index.month]).mean().round(decimals=1)\n",
    "\n",
    "# Change index from month number to month name\n",
    "monthly_temp.index = monthly_temp.index.to_series().apply(lambda x: calendar.month_abbr[x])"
   ]
  },
  {
   "cell_type": "markdown",
   "id": "3068491e-9690-4994-82a2-571c71173496",
   "metadata": {},
   "source": [
    "Visualize monthly temperature normal"
   ]
  },
  {
   "cell_type": "code",
   "execution_count": 21,
   "id": "77522ee2-53fc-4310-a28e-06ea7154862d",
   "metadata": {},
   "outputs": [
    {
     "data": {
      "image/png": "[encoded data removed]",
      "text/plain": [
       "<Figure size 800x500 with 1 Axes>"
      ]
     },
     "metadata": {},
     "output_type": "display_data"
    },
    {
     "data": {
      "text/html": [
       "<div>\n",
       "<style scoped>\n",
       "    .dataframe tbody tr th:only-of-type {\n",
       "        vertical-align: middle;\n",
       "    }\n",
       "\n",
       "    .dataframe tbody tr th {\n",
       "        vertical-align: top;\n",
       "    }\n",
       "\n",
       "    .dataframe thead th {\n",
       "        text-align: right;\n",
       "    }\n",
       "</style>\n",
       "<table border=\"1\" class=\"dataframe\">\n",
       "  <thead>\n",
       "    <tr style=\"text-align: right;\">\n",
       "      <th>DATE</th>\n",
       "      <th>Jan</th>\n",
       "      <th>Feb</th>\n",
       "      <th>Mar</th>\n",
       "      <th>Apr</th>\n",
       "      <th>May</th>\n",
       "      <th>Jun</th>\n",
       "      <th>Jul</th>\n",
       "      <th>Aug</th>\n",
       "      <th>Sep</th>\n",
       "      <th>Oct</th>\n",
       "      <th>Nov</th>\n",
       "      <th>Dec</th>\n",
       "    </tr>\n",
       "  </thead>\n",
       "  <tbody>\n",
       "    <tr>\n",
       "      <th>temp_max</th>\n",
       "      <td>47.2</td>\n",
       "      <td>48.7</td>\n",
       "      <td>52.9</td>\n",
       "      <td>58.3</td>\n",
       "      <td>65.2</td>\n",
       "      <td>70.8</td>\n",
       "      <td>77.2</td>\n",
       "      <td>77.2</td>\n",
       "      <td>70.5</td>\n",
       "      <td>59.8</td>\n",
       "      <td>51.1</td>\n",
       "      <td>45.8</td>\n",
       "    </tr>\n",
       "    <tr>\n",
       "      <th>temp_avg</th>\n",
       "      <td>42.2</td>\n",
       "      <td>42.8</td>\n",
       "      <td>46.2</td>\n",
       "      <td>50.5</td>\n",
       "      <td>56.7</td>\n",
       "      <td>61.9</td>\n",
       "      <td>67.0</td>\n",
       "      <td>67.2</td>\n",
       "      <td>62.0</td>\n",
       "      <td>53.3</td>\n",
       "      <td>45.7</td>\n",
       "      <td>41.2</td>\n",
       "    </tr>\n",
       "    <tr>\n",
       "      <th>temp_min</th>\n",
       "      <td>37.2</td>\n",
       "      <td>36.9</td>\n",
       "      <td>39.5</td>\n",
       "      <td>42.7</td>\n",
       "      <td>48.1</td>\n",
       "      <td>53.0</td>\n",
       "      <td>56.7</td>\n",
       "      <td>57.1</td>\n",
       "      <td>53.5</td>\n",
       "      <td>46.8</td>\n",
       "      <td>40.2</td>\n",
       "      <td>36.5</td>\n",
       "    </tr>\n",
       "  </tbody>\n",
       "</table>\n",
       "</div>"
      ],
      "text/plain": [
       "DATE       Jan   Feb   Mar   Apr   May   Jun   Jul   Aug   Sep   Oct   Nov  \\\n",
       "temp_max  47.2  48.7  52.9  58.3  65.2  70.8  77.2  77.2  70.5  59.8  51.1   \n",
       "temp_avg  42.2  42.8  46.2  50.5  56.7  61.9  67.0  67.2  62.0  53.3  45.7   \n",
       "temp_min  37.2  36.9  39.5  42.7  48.1  53.0  56.7  57.1  53.5  46.8  40.2   \n",
       "\n",
       "DATE       Dec  \n",
       "temp_max  45.8  \n",
       "temp_avg  41.2  \n",
       "temp_min  36.5  "
      ]
     },
     "execution_count": 21,
     "metadata": {},
     "output_type": "execute_result"
    }
   ],
   "source": [
    "fig,ax = plt.subplots(figsize=(8,5))\n",
    "\n",
    "\n",
    "monthly_temp['temp_max'].plot(ax=ax, marker='o',markersize=4, color='orange', \n",
    "                              label='Mean Max Temperature Normal')\n",
    "monthly_temp['temp_avg'].plot(ax=ax, linestyle='-.', color='grey', linewidth='0.5', \n",
    "                              label='Mean Avg Temperature Normal')\n",
    "monthly_temp['temp_min'].plot(ax=ax, marker='o',markersize=4, color='blue',\n",
    "                              label='Mean Min Temperature Normal')\n",
    "\n",
    "ax.fill_between(monthly_temp.index,0, monthly_temp.temp_min, interpolate=True, color='blue', alpha=0.2)\n",
    "ax.fill_between(monthly_temp.index, monthly_temp.temp_min, monthly_temp.temp_max, interpolate=True, color='orange', alpha=0.2)\n",
    "\n",
    "\n",
    "ax.set_ylim(0,100)\n",
    "ax.set_xticks(monthly_temp.index)\n",
    "ax.set_xticklabels(monthly_temp.index)\n",
    "ax.set_xlabel(\"\")\n",
    "ax.set_ylabel(\"Temperature ($^o$F)\")\n",
    "ax.legend(loc='upper left', fontsize= 9)\n",
    "ax.set_title(\"Normal monthly temperature in Seattle over 2000-2022\\n\")\n",
    "\n",
    "# Display text values for each data point\n",
    "for index, row in monthly_temp.iterrows():\n",
    "    ax.text(index, row['temp_max']+2, row['temp_max'],ha='center', va='bottom')\n",
    "    ax.text(index, row['temp_min']-2, row['temp_min'],ha='center', va='top')\n",
    "    #ax.text(index, row['temp_avg']+3, row['temp_avg'],ha='center', va='top', size = 'smaller')\n",
    "\n",
    "plt.show()\n",
    "fig.savefig(\"Temp.png\")  \n",
    "\n",
    "# Show monthly temperature table\n",
    "monthly_temp[['temp_max', 'temp_avg', 'temp_min']].T"
   ]
  },
  {
   "cell_type": "markdown",
   "id": "4b0f17bc-4286-4c42-ab51-b7a5c2f7c306",
   "metadata": {},
   "source": [
    "Some insights drawn from the graph:\n",
    "- Temperature is highest in July and August and lowest in December to February.\n",
    "Seatle seems to have a mild summer with average max temperature is between 70 and 80.\n",
    "Average min temperature in the winter doesn't does below freezing so the winter is not too cold either. \n",
    "- In the summer, the average difference is 20 degree while in the winter, the average difference between high and low temperatures is 10 degree. Therefore, the temperature seems to fluctuate more in the summer.\n",
    "Since in the summer, the temperature does from 50 something to 70 something, which means that it could be chill in the early morning and gets hot later in the day.\n"
   ]
  },
  {
   "cell_type": "markdown",
   "id": "62489d76-2b72-4c74-80b0-4d04bee3fe6e",
   "metadata": {},
   "source": [
    "#### "
   ]
  },
  {
   "cell_type": "code",
   "execution_count": 28,
   "id": "d006d3b1-b909-4c55-92db-1f8f846774a1",
   "metadata": {},
   "outputs": [
    {
     "data": {
      "image/png": "[encoded data removed]",
      "text/plain": [
       "<Figure size 640x480 with 1 Axes>"
      ]
     },
     "metadata": {},
     "output_type": "display_data"
    }
   ],
   "source": [
    "# Explore temperature distributions\n",
    "ax = temp.plot.box()\n",
    "plt.grid(axis = 'y', linestyle = 'dashed', linewidth = 0.5)\n",
    "ax.set_axisbelow(True)\n",
    "ax.set(ylim=(0,120), yticks=np.arange(0,120,10))\n",
    "plt.show()\n"
   ]
  },
  {
   "cell_type": "markdown",
   "id": "57b76888-95d3-4b00-a14f-5e787d40150a",
   "metadata": {},
   "source": [
    "There are outliers in temperature max and temperature min. The exceptionally high temperature are above 100 and exceptionally low temperature is below 20."
   ]
  },
  {
   "cell_type": "code",
   "execution_count": 24,
   "id": "31f67757-9900-46ee-9531-d2f5048c4935",
   "metadata": {},
   "outputs": [
    {
     "data": {
      "image/png": "[encoded data removed]",
      "text/plain": [
       "<Figure size 900x600 with 1 Axes>"
      ]
     },
     "metadata": {},
     "output_type": "display_data"
    }
   ],
   "source": [
    "import matplotlib.pyplot as plt\n",
    "import numpy as np\n",
    "\n",
    "month_i=[]\n",
    "for i in range(1,13):\n",
    "    month_i.append(temp['temp_avg'][temp.index.month ==i])\n",
    "    \n",
    "plt.figure(figsize=(9,6))\n",
    "plt.boxplot(month_i)\n",
    "plt.title(\"Distrubtion of Average temperature each month over 2000-2022\")\n",
    "plt.show()\n"
   ]
  },
  {
   "cell_type": "markdown",
   "id": "6fd86ec6-48b2-4512-9e48-0091fe06e3fc",
   "metadata": {},
   "source": [
    "### 2.Precipitation"
   ]
  },
  {
   "cell_type": "code",
   "execution_count": null,
   "id": "f18429f4-8e9b-4df5-b85d-e0462a608a16",
   "metadata": {},
   "outputs": [],
   "source": [
    "# Sum up precipitation of each month of each year\n",
    "month_year_total_precip = precip.resample(\"M\").sum()\n",
    "\n",
    "# Calculate monthly total precipation normal over 2000-2022\n",
    "monthly_total_precip_normal= month_year_total_precip.groupby(month_year_total_precip.index.month).mean()\n",
    "\n",
    "# Change index from month number to month name\n",
    "monthly_total_precip_normal.index = monthly_total_precip_normal.index.to_series().apply(lambda x: calendar.month_abbr[x])\n",
    "\n",
    "#print(month_year_total_precip)"
   ]
  },
  {
   "cell_type": "code",
   "execution_count": null,
   "id": "cf01ffd2-e827-4f79-922e-66faba40894a",
   "metadata": {},
   "outputs": [],
   "source": [
    "# Visualize mean monthly total precipitation\n",
    "\n",
    "ax = monthly_total_precip_normal['precip'].plot.bar()\n",
    "plt.xlabel(\"\")\n",
    "plt.ylabel(\"Precipitation (inches)\")\n",
    "plt.title(\" Monthly total precipitation normal 2000-2022\\n\")\n",
    "plt.grid(linestyle = 'dashed', linewidth = 0.5)\n",
    "ax.set_axisbelow(True)\n",
    "plt.show()\n",
    "monthly_total_precip_normal.round(2).T"
   ]
  },
  {
   "cell_type": "markdown",
   "id": "d217706a-d913-43aa-8e9c-e56acc24995b",
   "metadata": {},
   "source": [
    "- November is the month with most precipitation. \n",
    "- Rain a lot in Nov to Jan.\n",
    "- Medium rain from Feb to April to Oct.\n",
    "- Less rain from May to Sep\n",
    "- July is the driest month of the year."
   ]
  },
  {
   "cell_type": "markdown",
   "id": "534ee846-f6f7-4468-9fcb-9bf99d5cc36d",
   "metadata": {},
   "source": [
    "### 3. Snow"
   ]
  },
  {
   "cell_type": "code",
   "execution_count": null,
   "id": "c4be220c-bbb1-4eea-9d54-fdf51738ecf7",
   "metadata": {},
   "outputs": [],
   "source": [
    "snow"
   ]
  },
  {
   "cell_type": "code",
   "execution_count": null,
   "id": "d6b0364c-8da7-4a3d-88b3-b1d280a62bea",
   "metadata": {},
   "outputs": [],
   "source": [
    "# Calculate total snow per month-year\n",
    "\n",
    "snow_month_year = snow.resample(\"M\").sum()\n",
    "snow_month_year"
   ]
  },
  {
   "cell_type": "code",
   "execution_count": null,
   "id": "4e3e7b9a-5fd6-488c-bf16-cc6db146730d",
   "metadata": {},
   "outputs": [],
   "source": [
    "monthly_total_snow_normal = snow_month_year.groupby(snow_month_year.index.month).mean()\n",
    "monthly_total_snow_normal.index = monthly_total_snow_normal.index.to_series().apply(lambda x: calendar.month_abbr[x])\n",
    "\n"
   ]
  },
  {
   "cell_type": "code",
   "execution_count": null,
   "id": "6ea04ebe-e950-424a-b9c2-b362ff966dfb",
   "metadata": {},
   "outputs": [],
   "source": [
    "fig, (ax1, ax2) = plt.subplots(1,2, figsize=(10,4))\n",
    "max_snow = max(monthly_total_snow_normal.max(axis=1))\n",
    "print(max_snow)\n",
    "\n",
    "monthly_total_snow_normal['snow_fall'].plot(ax=ax1, kind=\"bar\")\n",
    "#ax1.set_title(\"Monthly Total Snow Fall nomral (2008-2022)\")\n",
    "ax1.set(xlabel=None,\n",
    "       title=\"Monthly Total Snow Fall nomral (2008-2022)\",\n",
    "       ylim= (0,max_snow+1))\n",
    "\n",
    "\n",
    "monthly_total_snow_normal['snow_depth'].plot(ax=ax2, kind=\"bar\")\n",
    "ax2.set(xlabel=None,\n",
    "       title=\"Monthly Total Snow Depth nomral (2008-2022)\",\n",
    "       ylim= (0,max_snow+1))\n",
    "        \n",
    "plt.show()\n",
    "monthly_total_snow_normal.T"
   ]
  },
  {
   "cell_type": "markdown",
   "id": "b897ff9e-76fa-49cc-8a28-7248a9745a0f",
   "metadata": {},
   "source": [
    "- Feb has the most snow of the year.\n",
    "- Majority of snow is from Dec to Feb.\n",
    "- There are low chances of snow in Mar and Nov. \n",
    "- There seems to be no snow in Apr to Oct. \n"
   ]
  },
  {
   "cell_type": "markdown",
   "id": "501595f2-075a-4c7e-87c1-92dc30349a52",
   "metadata": {},
   "source": [
    "### ALL in one"
   ]
  },
  {
   "cell_type": "code",
   "execution_count": null,
   "id": "76536054-311a-439d-9575-ff5baa08a960",
   "metadata": {},
   "outputs": [],
   "source": []
  }
 ],
 "metadata": {
  "kernelspec": {
   "display_name": "Python 3 (ipykernel)",
   "language": "python",
   "name": "python3"
  },
  "language_info": {
   "codemirror_mode": {
    "name": "ipython",
    "version": 3
   },
   "file_extension": ".py",
   "mimetype": "text/x-python",
   "name": "python",
   "nbconvert_exporter": "python",
   "pygments_lexer": "ipython3",
   "version": "3.10.9"
  }
 },
 "nbformat": 4,
 "nbformat_minor": 5
}
